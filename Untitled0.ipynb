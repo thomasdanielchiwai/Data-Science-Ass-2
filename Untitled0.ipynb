{
  "nbformat": 4,
  "nbformat_minor": 0,
  "metadata": {
    "colab": {
      "provenance": [],
      "authorship_tag": "ABX9TyODwdH9XE7uxK7WpgCGf742",
      "include_colab_link": true
    },
    "kernelspec": {
      "name": "python3",
      "display_name": "Python 3"
    },
    "language_info": {
      "name": "python"
    }
  },
  "cells": [
    {
      "cell_type": "markdown",
      "metadata": {
        "id": "view-in-github",
        "colab_type": "text"
      },
      "source": [
        "<a href=\"https://colab.research.google.com/github/thomasdanielchiwai/Data-Science-Ass-2/blob/main/Untitled0.ipynb\" target=\"_parent\"><img src=\"https://colab.research.google.com/assets/colab-badge.svg\" alt=\"Open In Colab\"/></a>"
      ]
    },
    {
      "cell_type": "code",
      "source": [
        "import pandas as pd\n",
        "import numpy as np\n",
        "from sklearn.model_selection import train_test_split\n",
        "from sklearn.pipeline import Pipeline\n",
        "from sklearn.compose import ColumnTransformer\n",
        "from sklearn.preprocessing import OneHotEncoder, StandardScaler\n",
        "from sklearn.linear_model import LinearRegression\n",
        "from sklearn.metrics import mean_squared_error, r2_score\n",
        "import joblib\n",
        "\n",
        "df = pd.read_csv(\"/content/synthetic_accidents.csv\")\n",
        "\n",
        "print(\"Rows, cols:\", df.shape)\n",
        "print(df.head())\n",
        "\n",
        "severity_map = {\"Slight\": 0, \"Serious\": 1, \"Fatal\": 2}\n",
        "if df['severity'].dtype == 'object':\n",
        "    df['severity_num'] = df['severity'].map(severity_map)\n",
        "else:\n",
        "    df['severity_num'] = df['severity']\n",
        "\n",
        "features = [\n",
        "    'vehicle_speed_limit', 'road_type', 'weather_condition',\n",
        "    'light_condition', 'junction_detail', 'vehicle_type',\n",
        "    'age_of_driver', 'alcohol_involved', 'num_of_vehicles', 'road_surface_condition'\n",
        "]\n",
        "target = 'severity_num'\n",
        "\n",
        "df = df.dropna(subset=[target])\n",
        "\n",
        "numeric_features = ['vehicle_speed_limit', 'age_of_driver', 'num_of_vehicles']\n",
        "categorical_features = ['road_type', 'weather_condition', 'light_condition',\n",
        "                        'junction_detail', 'vehicle_type', 'alcohol_involved',\n",
        "                        'road_surface_condition']\n",
        "\n",
        "for col in numeric_features:\n",
        "    if col in df.columns:\n",
        "        df[col] = pd.to_numeric(df[col], errors='coerce')\n",
        "        df[col].fillna(df[col].median(), inplace=True)\n",
        "\n",
        "for col in categorical_features:\n",
        "    if col in df.columns:\n",
        "        df[col] = df[col].astype(str).fillna(\"Unknown\")\n",
        "\n",
        "features = [f for f in features if f in df.columns]\n",
        "numeric_features = [f for f in numeric_features if f in df.columns]\n",
        "categorical_features = [f for f in categorical_features if f in df.columns]\n",
        "\n",
        "X = df[features]\n",
        "y = df[target].astype(float)\n",
        "\n",
        "X_train, X_test, y_train, y_test = train_test_split(X, y, test_size=0.2, random_state=42)\n",
        "\n",
        "numeric_transformer = Pipeline(steps=[\n",
        "    ('scaler', StandardScaler())\n",
        "])\n",
        "categorical_transformer = Pipeline(steps=[\n",
        "    ('onehot', OneHotEncoder(handle_unknown='ignore', sparse_output=False))\n",
        "])\n",
        "\n",
        "preprocessor = ColumnTransformer(\n",
        "    transformers=[\n",
        "        ('num', numeric_transformer, numeric_features),\n",
        "        ('cat', categorical_transformer, categorical_features)\n",
        "    ], remainder='drop'\n",
        ")\n",
        "\n",
        "model_pipeline = Pipeline(steps=[\n",
        "    ('preprocessor', preprocessor),\n",
        "    ('regressor', LinearRegression())\n",
        "])\n",
        "\n",
        "model_pipeline.fit(X_train, y_train)\n",
        "\n",
        "y_pred = model_pipeline.predict(X_test)\n",
        "rmse = np.sqrt(mean_squared_error(y_test, y_pred))\n",
        "r2 = r2_score(y_test, y_pred)\n",
        "print(f\"Test RMSE: {rmse:.4f}\")\n",
        "print(f\"Test R^2: {r2:.4f}\")\n",
        "\n",
        "joblib.dump(model_pipeline, \"accident_severity_linear_model.joblib\")\n",
        "print(\"Saved model to accident_severity_linear_model.joblib\")"
      ],
      "metadata": {
        "colab": {
          "base_uri": "https://localhost:8080/"
        },
        "id": "Pi2MefRSPjAw",
        "outputId": "85787e13-011f-4a68-ac7e-d10480eee8d9"
      },
      "execution_count": 1,
      "outputs": [
        {
          "output_type": "stream",
          "name": "stdout",
          "text": [
            "Rows, cols: (5000, 12)\n",
            "   vehicle_speed  driver_age  alcohol_level traffic_density weather  \\\n",
            "0      67.450712   29.914884       0.077502          medium   clear   \n",
            "1      57.926035   29.559031       0.021744          medium   clear   \n",
            "2      69.715328   16.000000       0.014903             low    snow   \n",
            "3      82.845448   31.038918       0.019804          medium    rain   \n",
            "4      56.487699   43.793949       0.174871          medium   clear   \n",
            "\n",
            "       road_light vehicle_type  seatbelt road_surface road_alignment  hour  \\\n",
            "0        daylight          car         1          dry       straight    19   \n",
            "1        daylight          car         1          dry       straight     7   \n",
            "2        daylight          car         1          dry       straight     8   \n",
            "3  dark_lights_on          car         0          dry       straight    13   \n",
            "4        daylight          car         1          dry          curve    11   \n",
            "\n",
            "    severity  \n",
            "0  42.478089  \n",
            "1  47.221452  \n",
            "2  67.225206  \n",
            "3  56.528118  \n",
            "4  34.556269  \n",
            "Test RMSE: 23.7201\n",
            "Test R^2: 0.0222\n",
            "Saved model to accident_severity_linear_model.joblib\n"
          ]
        }
      ]
    }
  ]
}